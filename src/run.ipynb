{
 "cells": [
  {
   "cell_type": "markdown",
   "metadata": {},
   "source": [
    "---\n",
    "# **HOW TO RUN**\n",
    "---\n",
    "When running, create the folder ```english``` that contains the ```.txt files``` with English query sentences to execute."
   ]
  },
  {
   "cell_type": "markdown",
   "metadata": {},
   "source": [
    "---\n",
    "# **IMPORT**\n",
    "---"
   ]
  },
  {
   "cell_type": "code",
   "execution_count": 1,
   "metadata": {},
   "outputs": [
    {
     "name": "stderr",
     "output_type": "stream",
     "text": [
      "/home/alex/miniconda3/envs/ai_challenge/lib/python3.10/site-packages/tqdm/auto.py:21: TqdmWarning: IProgress not found. Please update jupyter and ipywidgets. See https://ipywidgets.readthedocs.io/en/stable/user_install.html\n",
      "  from .autonotebook import tqdm as notebook_tqdm\n"
     ]
    }
   ],
   "source": [
    "import os\n",
    "import io\n",
    "from embeding import *\n",
    "from vector_store import *\n",
    "import csv\n",
    "from PIL import Image\n",
    "import pandas as pd\n",
    "import matplotlib.pyplot as plt"
   ]
  },
  {
   "cell_type": "code",
   "execution_count": 6,
   "metadata": {},
   "outputs": [
    {
     "name": "stdout",
     "output_type": "stream",
     "text": [
      "Snapshot uploaded successfully.\n",
      "Response: {'result': True, 'status': 'ok', 'time': 19.445680875}\n"
     ]
    }
   ],
   "source": [
    "qdrant_url = \"http://localhost:6333\"\n",
    "token = \"\"\n",
    "\n",
    "vector_space = QdrantVectorSpace(\n",
    "    qdrant_url=qdrant_url,\n",
    "    token=token,\n",
    "    collection_name=\"run\",\n",
    "    snapshot=True\n",
    ")\n",
    "vector_space.load_snapshot(\"../weights/snapshot/qdrant_snapshot.snapshot\")"
   ]
  },
  {
   "cell_type": "code",
   "execution_count": 8,
   "metadata": {},
   "outputs": [],
   "source": [
    "model = JinaTextEmbeding('../weights/jina-clip-v1')"
   ]
  },
  {
   "cell_type": "markdown",
   "metadata": {},
   "source": [
    "---\n",
    "# **SETTING BEFORE RUNNING**\n",
    "---"
   ]
  },
  {
   "cell_type": "code",
   "execution_count": 9,
   "metadata": {},
   "outputs": [],
   "source": [
    "# Folder path\n",
    "folder_sum = \"run\"\n",
    "folder_input = os.path.join(folder_sum, \"english\")\n",
    "folder_output = os.path.join(folder_sum, \"result\")\n",
    "folder_check = os.path.join(folder_sum, \"check\")\n",
    "\n",
    "os.makedirs(folder_output, exist_ok=True)\n",
    "os.makedirs(folder_check, exist_ok=True)\n",
    "\n",
    "troll_video = [\"L09_V009\", \"L06_V003\"]"
   ]
  },
  {
   "cell_type": "markdown",
   "metadata": {},
   "source": [
    "---\n",
    "# **RUNNING**\n",
    "---"
   ]
  },
  {
   "cell_type": "code",
   "execution_count": 31,
   "metadata": {},
   "outputs": [],
   "source": [
    "data = []\n",
    "file_names = os.listdir(folder_input)\n",
    "for each in file_names:\n",
    "    file_path = os.path.join(folder_input, each)\n",
    "    with open(file_path, 'r') as f:\n",
    "        data.append(f.read())"
   ]
  },
  {
   "cell_type": "code",
   "execution_count": 32,
   "metadata": {},
   "outputs": [],
   "source": [
    "result = model.inference(data, norm_embeds=True)"
   ]
  },
  {
   "cell_type": "code",
   "execution_count": 33,
   "metadata": {},
   "outputs": [],
   "source": [
    "images_solve = {}\n",
    "\n",
    "for each_embedding, each_file in zip(result[0], file_names):\n",
    "    answer = vector_space.query_by_text(each_embedding, top_k=100)\n",
    "    images_solve[each_file] = []\n",
    "    # Result\n",
    "    file_output = os.path.join(folder_output, each_file)\n",
    "    file_output = file_output.replace(\".txt\", \".csv\")\n",
    "\n",
    "    # Check\n",
    "    file_check = os.path.join(folder_check, each_file)\n",
    "    file_check = file_check.replace(\".txt\", \".csv\")\n",
    "\n",
    "    with open(file_output, 'w', newline='') as csvfile:\n",
    "        csvwriter = csv.writer(csvfile)\n",
    "        \n",
    "        for scored_point in answer:\n",
    "            video_id = scored_point.payload.get('video_id', '')\n",
    "            frame_id = scored_point.payload.get('frame_id', '')\n",
    "            images_solve[each_file].append((video_id, frame_id))\n",
    "            if video_id in troll_video:\n",
    "                frame_id = str(int(frame_id) * 25 / 30)\n",
    "            csvwriter.writerow([video_id, round(float(frame_id))])\n",
    "\n",
    "    with open(file_check, 'w', newline='') as csvfile:\n",
    "        csvwriter = csv.writer(csvfile)\n",
    "        csvwriter.writerow(['Video ID', 'Frame ID', 'BTC Frame ID', 'Time'])\n",
    "        \n",
    "        for scored_point in answer:\n",
    "            video_id = scored_point.payload.get('video_id', '')\n",
    "            frame_id = scored_point.payload.get('frame_id', '')\n",
    "\n",
    "            index_time = int(frame_id) / 25\n",
    "            minute = index_time // 60\n",
    "            second = index_time % 60\n",
    "            index_time = f\"{int(minute)}min{second:.2f}s\"\n",
    "\n",
    "            btc_frame_id = frame_id\n",
    "            if video_id in troll_video:\n",
    "                btc_frame_id = int(frame_id) * 25 / 30\n",
    "                \n",
    "            csvwriter.writerow([video_id, frame_id, btc_frame_id, index_time])"
   ]
  },
  {
   "cell_type": "markdown",
   "metadata": {},
   "source": [
    "---\n",
    "# **ADD RESULT FOR QA**\n",
    "---"
   ]
  },
  {
   "cell_type": "markdown",
   "metadata": {},
   "source": [
    "### **- Add**"
   ]
  },
  {
   "cell_type": "code",
   "execution_count": 6,
   "metadata": {},
   "outputs": [],
   "source": [
    "# Add column with the same value to the file\n",
    "input_file = \"\"\n",
    "content = \"\"\n",
    "df = pd.read_csv(input_file, header=None)\n",
    "df[\"\"] = content\n",
    "df.to_csv(input_file, index=False, header=None)"
   ]
  },
  {
   "cell_type": "markdown",
   "metadata": {},
   "source": [
    "### **- Remove**"
   ]
  },
  {
   "cell_type": "code",
   "execution_count": 32,
   "metadata": {},
   "outputs": [],
   "source": [
    "# Delete the last\n",
    "input_file = \"\"\n",
    "df = pd.read_csv(input_file, header=None)\n",
    "df = df.iloc[:, :-1]\n",
    "df.to_csv(input_file, index=False, header=None)"
   ]
  }
 ],
 "metadata": {
  "kernelspec": {
   "display_name": "Python 3 (ipykernel)",
   "language": "python",
   "name": "python3"
  },
  "language_info": {
   "codemirror_mode": {
    "name": "ipython",
    "version": 3
   },
   "file_extension": ".py",
   "mimetype": "text/x-python",
   "name": "python",
   "nbconvert_exporter": "python",
   "pygments_lexer": "ipython3",
   "version": "undefined.undefined.undefined"
  }
 },
 "nbformat": 4,
 "nbformat_minor": 2
}
